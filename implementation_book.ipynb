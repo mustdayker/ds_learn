{
 "cells": [
  {
   "cell_type": "markdown",
   "id": "54b15fda",
   "metadata": {},
   "source": [
    "<a id='head'></a>\n",
    "# $Implementation Book &copy;\\$  \n",
    "`by Pasha and Dima`"
   ]
  },
  {
   "cell_type": "markdown",
   "id": "7e8ef5e4",
   "metadata": {},
   "source": [
    "# Оглавление\n",
    "\n",
    "- [**1. Анализ данных**](#part_01)\n",
    "    - [1.1 Hitmap для матрицы корреляции](#part_11)\n",
    "\n",
    "    \n",
    "- [**2. Подготовка признаков**](#part_02)\n",
    "    - [2.1 ](#part_21)\n",
    "\n",
    "    \n",
    "- [**3. Классификация**](#part_03)\n",
    "    - [3.1 ](#part_31)\n",
    "\n",
    "\n",
    "- [**4. Регрессия**](#part_04)\n",
    "    - [4.1 ](#part_41)\n",
    "\n",
    "\n",
    "- [**5. Тексты**](#part_05)\n",
    "    - [5.1 ](#part_51)\n",
    "\n",
    "    \n",
    "- [**6. Зрение**](#part_06)\n",
    "    - [6.1 ](#part_61)\n",
    "\n",
    "\n",
    "- [**7. Обучение без учителя**](#part_07)\n",
    "    - [7.1 ](#part_71)\n"
   ]
  },
  {
   "cell_type": "markdown",
   "id": "24612d38",
   "metadata": {},
   "source": [
    "---"
   ]
  },
  {
   "cell_type": "markdown",
   "id": "a32e86ce",
   "metadata": {},
   "source": [
    "<a id='part_01'></a>\n",
    "# 1. Анализ данных [▴](#head)"
   ]
  },
  {
   "cell_type": "markdown",
   "id": "a75be38c",
   "metadata": {},
   "source": [
    "<a id='part_11'></a>\n",
    "## 1.1 Hitmap для матрицы корреляции [▴](#head)"
   ]
  },
  {
   "cell_type": "markdown",
   "id": "ffc992e1",
   "metadata": {},
   "source": [
    "<div class=\"alert alert-danger\">\n",
    "\n",
    "⚠️ Добавить датасет для примера, чтобы ячейка срабатывала и выводился пример\n",
    "    \n",
    "</div>"
   ]
  },
  {
   "cell_type": "code",
   "execution_count": null,
   "id": "3a677aea",
   "metadata": {},
   "outputs": [],
   "source": [
    "import pandas as pd\n",
    "import matplotlib.pyplot as plt\n",
    "import seaborn as sns\n",
    "\n",
    "plt.figure(figsize=(12,10))\n",
    "corr_matrix = sns.heatmap(df.corr(), \n",
    "                          annot=True, \n",
    "                          vmin=-1, vmax=1, center=0, # задаем возможный диапазон значений от -1 до 1\n",
    "                          cmap='seismic', # или coolwarm https://matplotlib.org/stable/gallery/color/colormap_reference.html\n",
    "                          mask=(np.tri(len(df.corr())).T), # с помощью маски оставляем только половину матрицы\n",
    "                          linewidths=1, # толщина линий\n",
    "                          linecolor='grey') # цвет линий\n",
    "\n",
    "corr_matrix.set_title(\"Корреляционная матрица\", fontsize=16)\n",
    "\n",
    "# Маски:\n",
    "# mask = np.triu(df.corr())\n",
    "# mask = np.tril(df.corr())"
   ]
  },
  {
   "cell_type": "markdown",
   "id": "f8821b74",
   "metadata": {},
   "source": [
    "---"
   ]
  },
  {
   "cell_type": "markdown",
   "id": "3f69b811",
   "metadata": {},
   "source": [
    "<a id='part_02'></a>\n",
    "# 2. Подготовка признаков [▴](#head)"
   ]
  },
  {
   "cell_type": "markdown",
   "id": "f00008ef",
   "metadata": {},
   "source": [
    "<a id='part_21'></a>\n",
    "## 2.1 Ordinal Encoder [▴](#head)"
   ]
  },
  {
   "cell_type": "markdown",
   "id": "7699bc76",
   "metadata": {},
   "source": [
    "Кодировать признаки стоит тольео после деления на выборки, так как возможно утечка."
   ]
  },
  {
   "cell_type": "code",
   "execution_count": null,
   "id": "a7a7e4c7",
   "metadata": {},
   "outputs": [],
   "source": [
    "import pandas as pd\n",
    "from sklearn.preprocessing import OrdinalEncoder\n",
    "\n",
    "encoder = OrdinalEncoder()\n",
    "txt_columns = df.select_dtypes(include=['object', 'category']).columns # получаем список текстовых признаков\n",
    "\n",
    "df_encoded = df.drop(columns=txt_columns) # создаем новый датасет. Для начала оставляем там только числовые признаки\n",
    "df_encoded[txt_columns] = encoder.fit_transform(df[txt_columns]) # с помощью техники Ordinal Encoding, добавляем в \n",
    "                                                            # датафрейм df_encoded массив с закодированными признаками\n",
    "\n",
    "df_encoded"
   ]
  },
  {
   "cell_type": "markdown",
   "id": "0da0ce85",
   "metadata": {},
   "source": [
    "---"
   ]
  },
  {
   "cell_type": "markdown",
   "id": "d0c402b9",
   "metadata": {},
   "source": [
    "<a id='part_03'></a>\n",
    "# 3. Классификация [▴](#head)"
   ]
  },
  {
   "cell_type": "markdown",
   "id": "1cb73f21",
   "metadata": {},
   "source": [
    "<a id='part_31'></a>\n",
    "## 3.1 [▴](#head)"
   ]
  },
  {
   "cell_type": "markdown",
   "id": "e15c21a2",
   "metadata": {},
   "source": [
    "---"
   ]
  },
  {
   "cell_type": "markdown",
   "id": "baa0fe04",
   "metadata": {},
   "source": [
    "<a id='part_04'></a>\n",
    "# 4. Регрессия [▴](#head)"
   ]
  },
  {
   "cell_type": "markdown",
   "id": "1e732dd5",
   "metadata": {},
   "source": [
    "<a id='part_41'></a>\n",
    "## 4.1 [▴](#head)"
   ]
  },
  {
   "cell_type": "markdown",
   "id": "74dd4f80",
   "metadata": {},
   "source": [
    "---"
   ]
  },
  {
   "cell_type": "markdown",
   "id": "127755da",
   "metadata": {},
   "source": [
    "<a id='part_05'></a>\n",
    "# 5. Тексты [▴](#head)"
   ]
  },
  {
   "cell_type": "markdown",
   "id": "46004df7",
   "metadata": {},
   "source": [
    "<a id='part_51'></a>\n",
    "## 5.1 [▴](#head)"
   ]
  },
  {
   "cell_type": "markdown",
   "id": "d81d6360",
   "metadata": {},
   "source": [
    "---"
   ]
  },
  {
   "cell_type": "markdown",
   "id": "201b3d2b",
   "metadata": {},
   "source": [
    "<a id='part_06'></a>\n",
    "# 6. Зрение [▴](#head)"
   ]
  },
  {
   "cell_type": "markdown",
   "id": "74d90e7f",
   "metadata": {},
   "source": [
    "<a id='part_61'></a>\n",
    "## 6.1 [▴](#head)"
   ]
  },
  {
   "cell_type": "markdown",
   "id": "689df9cc",
   "metadata": {},
   "source": [
    "---"
   ]
  },
  {
   "cell_type": "markdown",
   "id": "4977f42f",
   "metadata": {},
   "source": [
    "<a id='part_07'></a>\n",
    "# 7. Обучение без учителя [▴](#head)"
   ]
  },
  {
   "cell_type": "markdown",
   "id": "fbfd08e2",
   "metadata": {},
   "source": [
    "<a id='part_71'></a>\n",
    "## 7.1 [▴](#head)"
   ]
  },
  {
   "cell_type": "markdown",
   "id": "e497aed5",
   "metadata": {},
   "source": [
    "---"
   ]
  }
 ],
 "metadata": {
  "kernelspec": {
   "display_name": "Python 3 (ipykernel)",
   "language": "python",
   "name": "python3"
  },
  "language_info": {
   "codemirror_mode": {
    "name": "ipython",
    "version": 3
   },
   "file_extension": ".py",
   "mimetype": "text/x-python",
   "name": "python",
   "nbconvert_exporter": "python",
   "pygments_lexer": "ipython3",
   "version": "3.9.15"
  }
 },
 "nbformat": 4,
 "nbformat_minor": 5
}
